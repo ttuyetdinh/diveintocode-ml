{
  "nbformat": 4,
  "nbformat_minor": 0,
  "metadata": {
    "colab": {
      "name": "Assign_Matrix_scratch.ipynb",
      "provenance": [],
      "authorship_tag": "ABX9TyMiypykK0UZy0YxE5bDzITp",
      "include_colab_link": true
    },
    "kernelspec": {
      "name": "python3",
      "display_name": "Python 3"
    }
  },
  "cells": [
    {
      "cell_type": "markdown",
      "metadata": {
        "id": "view-in-github",
        "colab_type": "text"
      },
      "source": [
        "<a href=\"https://colab.research.google.com/github/ttuyetdinh/diveintocode-ml/blob/master/Assign_Matrix_scratch.ipynb\" target=\"_parent\"><img src=\"https://colab.research.google.com/assets/colab-badge.svg\" alt=\"Open In Colab\"/></a>"
      ]
    },
    {
      "cell_type": "markdown",
      "metadata": {
        "id": "FlgpyfL0ZADi"
      },
      "source": [
        "#Problem 1\r\n",
        "\r\n",
        "\r\n"
      ]
    },
    {
      "cell_type": "code",
      "metadata": {
        "colab": {
          "base_uri": "https://localhost:8080/"
        },
        "id": "nllxI_peceI8",
        "outputId": "6c096bf2-c5b3-4a51-b2ce-ae960524e6d4"
      },
      "source": [
        "a = np.array([[-1, 2, 3], [4, -5, 6], [7, 8, -9]])\r\n",
        "b = np.array([[0, 2, 1], [0, 2, -8], [2, 9, -1]])\r\n",
        "print(a)\r\n",
        "print(b)"
      ],
      "execution_count": 29,
      "outputs": [
        {
          "output_type": "stream",
          "text": [
            "[[-1  2  3]\n",
            " [ 4 -5  6]\n",
            " [ 7  8 -9]]\n",
            "[[ 0  2  1]\n",
            " [ 0  2 -8]\n",
            " [ 2  9 -1]]\n"
          ],
          "name": "stdout"
        }
      ]
    },
    {
      "cell_type": "markdown",
      "metadata": {
        "id": "PdwWlq2Pcl2-"
      },
      "source": [
        "According to this equation, we can calculate the multiple of 2 matrix has shape (m,n) and (n,p) as follow:\r\n",
        "![image.png](data:image/png;base64,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)\r\n",
        "\r\n",
        "Get the sum of product of each row and column one by one, we have:\r\n",
        "$$a[1][1]=(-1)*0 + 2*0 + 3*2 = 6$$\r\n",
        "$$a[1][2]=(-1)*2 + 2*2 + 3*9 = 29$$\r\n",
        "\r\n",
        "  And continue to a[m][p] we get the product of 2 matrices\r\n",
        "\r\n",
        "\r\n"
      ]
    },
    {
      "cell_type": "markdown",
      "metadata": {
        "id": "Lx45QDIQZAzF"
      },
      "source": [
        "# Problem 2"
      ]
    },
    {
      "cell_type": "code",
      "metadata": {
        "colab": {
          "base_uri": "https://localhost:8080/"
        },
        "id": "mc4505NqZJ2s",
        "outputId": "83c84ac0-6803-4e3d-d6fb-e14bc7b1ae29"
      },
      "source": [
        "import numpy as np\r\n",
        "import math\r\n",
        "a_ndarray = np.array([[-1, 2, 3], [4, -5, 6], [7, 8, -9]])\r\n",
        "b_ndarray = np.array([[0, 2, 1], [0, 2, -8], [2, 9, -1]])\r\n",
        "matrix_multi1=a_ndarray @ b_ndarray\r\n",
        "matrix_multi2=np.matmul(a_ndarray,b_ndarray)\r\n",
        "matrix_multi3=np.dot(a_ndarray,b_ndarray)\r\n",
        "print(matrix_multi1)\r\n",
        "print(matrix_multi2)\r\n",
        "print(matrix_multi3)\r\n"
      ],
      "execution_count": 27,
      "outputs": [
        {
          "output_type": "stream",
          "text": [
            "[[  6  29 -20]\n",
            " [ 12  52  38]\n",
            " [-18 -51 -48]]\n",
            "[[  6  29 -20]\n",
            " [ 12  52  38]\n",
            " [-18 -51 -48]]\n",
            "[[  6  29 -20]\n",
            " [ 12  52  38]\n",
            " [-18 -51 -48]]\n"
          ],
          "name": "stdout"
        }
      ]
    },
    {
      "cell_type": "markdown",
      "metadata": {
        "id": "lixgQzXRZLjh"
      },
      "source": [
        "#Problem 3,4,5,6"
      ]
    },
    {
      "cell_type": "code",
      "metadata": {
        "colab": {
          "base_uri": "https://localhost:8080/"
        },
        "id": "MVg7TDFhZNgN",
        "outputId": "b949ddb4-7496-493d-df2d-772fa3b0cc8f"
      },
      "source": [
        "def matmulti(a,b):\r\n",
        "  temp=np.zeros((a.shape[0],b.shape[1]))\r\n",
        "  if (a.shape[1]!=b.shape[0]):\r\n",
        "    print(\"Can' multiple 2 matrix !\")\r\n",
        "  else:\r\n",
        "    for i in range(a.shape[0]):\r\n",
        "      for j in range(b.shape[1]):\r\n",
        "        temp[i][j]=sum(a[i]*b.T[j])\r\n",
        "    return temp\r\n",
        "a=matmulti(a_ndarray,b_ndarray)\r\n",
        "print(a)"
      ],
      "execution_count": 28,
      "outputs": [
        {
          "output_type": "stream",
          "text": [
            "[[  6.  29. -20.]\n",
            " [ 12.  52.  38.]\n",
            " [-18. -51. -48.]]\n"
          ],
          "name": "stdout"
        }
      ]
    }
  ]
}