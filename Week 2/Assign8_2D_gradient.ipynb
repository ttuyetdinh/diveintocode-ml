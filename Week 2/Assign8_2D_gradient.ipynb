{
  "nbformat": 4,
  "nbformat_minor": 0,
  "metadata": {
    "colab": {
      "name": "Assign 2D-gradient .ipynb",
      "provenance": [],
      "collapsed_sections": [],
      "authorship_tag": "ABX9TyOKUzL1TfFcrhiwW8A1ogKO",
      "include_colab_link": true
    },
    "kernelspec": {
      "name": "python3",
      "display_name": "Python 3"
    },
    "language_info": {
      "name": "python"
    }
  },
  "cells": [
    {
      "cell_type": "markdown",
      "metadata": {
        "id": "view-in-github",
        "colab_type": "text"
      },
      "source": [
        "<a href=\"https://colab.research.google.com/github/ttuyetdinh/diveintocode-ml/blob/master/Assign8_2D_gradient.ipynb\" target=\"_parent\"><img src=\"https://colab.research.google.com/assets/colab-badge.svg\" alt=\"Open In Colab\"/></a>"
      ]
    },
    {
      "cell_type": "markdown",
      "metadata": {
        "id": "GHQXY1IOr6-t"
      },
      "source": [
        "#Problem 1\n",
        "\n",
        "\n"
      ]
    },
    {
      "cell_type": "code",
      "metadata": {
        "colab": {
          "base_uri": "https://localhost:8080/"
        },
        "id": "_oInpaUmr-hu",
        "outputId": "26823b03-7ba1-4578-f215-d4d267a5683e"
      },
      "source": [
        "import numpy as np\n",
        "import math\n",
        "x=np.arange(-50,51).reshape(101,1)\n",
        "y=0.5*x+1\n",
        "print(x.shape)\n",
        "print(y.shape)"
      ],
      "execution_count": 107,
      "outputs": [
        {
          "output_type": "stream",
          "text": [
            "(101, 1)\n",
            "(101, 1)\n"
          ],
          "name": "stdout"
        }
      ]
    },
    {
      "cell_type": "markdown",
      "metadata": {
        "id": "kZTLzBXKyath"
      },
      "source": [
        "#Problem 2"
      ]
    },
    {
      "cell_type": "code",
      "metadata": {
        "colab": {
          "base_uri": "https://localhost:8080/"
        },
        "id": "3TVNd3tbsxKY",
        "outputId": "c5ed98ee-3de5-4c35-ffb7-e8c69f4d37ec"
      },
      "source": [
        "t=np.concatenate((x,y),axis=1)\n",
        "print(t.shape)\n",
        "print(t.T)\n"
      ],
      "execution_count": 108,
      "outputs": [
        {
          "output_type": "stream",
          "text": [
            "(101, 2)\n",
            "[[-50.  -49.  -48.  -47.  -46.  -45.  -44.  -43.  -42.  -41.  -40.  -39.\n",
            "  -38.  -37.  -36.  -35.  -34.  -33.  -32.  -31.  -30.  -29.  -28.  -27.\n",
            "  -26.  -25.  -24.  -23.  -22.  -21.  -20.  -19.  -18.  -17.  -16.  -15.\n",
            "  -14.  -13.  -12.  -11.  -10.   -9.   -8.   -7.   -6.   -5.   -4.   -3.\n",
            "   -2.   -1.    0.    1.    2.    3.    4.    5.    6.    7.    8.    9.\n",
            "   10.   11.   12.   13.   14.   15.   16.   17.   18.   19.   20.   21.\n",
            "   22.   23.   24.   25.   26.   27.   28.   29.   30.   31.   32.   33.\n",
            "   34.   35.   36.   37.   38.   39.   40.   41.   42.   43.   44.   45.\n",
            "   46.   47.   48.   49.   50. ]\n",
            " [-24.  -23.5 -23.  -22.5 -22.  -21.5 -21.  -20.5 -20.  -19.5 -19.  -18.5\n",
            "  -18.  -17.5 -17.  -16.5 -16.  -15.5 -15.  -14.5 -14.  -13.5 -13.  -12.5\n",
            "  -12.  -11.5 -11.  -10.5 -10.   -9.5  -9.   -8.5  -8.   -7.5  -7.   -6.5\n",
            "   -6.   -5.5  -5.   -4.5  -4.   -3.5  -3.   -2.5  -2.   -1.5  -1.   -0.5\n",
            "    0.    0.5   1.    1.5   2.    2.5   3.    3.5   4.    4.5   5.    5.5\n",
            "    6.    6.5   7.    7.5   8.    8.5   9.    9.5  10.   10.5  11.   11.5\n",
            "   12.   12.5  13.   13.5  14.   14.5  15.   15.5  16.   16.5  17.   17.5\n",
            "   18.   18.5  19.   19.5  20.   20.5  21.   21.5  22.   22.5  23.   23.5\n",
            "   24.   24.5  25.   25.5  26. ]]\n"
          ],
          "name": "stdout"
        }
      ]
    },
    {
      "cell_type": "markdown",
      "metadata": {
        "id": "hZ85ZPhFyeLh"
      },
      "source": [
        "#Problem 3"
      ]
    },
    {
      "cell_type": "code",
      "metadata": {
        "id": "72BvsH7ZygTM"
      },
      "source": [
        ""
      ],
      "execution_count": null,
      "outputs": []
    },
    {
      "cell_type": "code",
      "metadata": {
        "colab": {
          "base_uri": "https://localhost:8080/"
        },
        "id": "rbqdUX2Ly1th",
        "outputId": "23738ada-8f8c-42cc-8a98-ac37c0b66a53"
      },
      "source": [
        "\n",
        "d_x=t[1:, 0:1]-t[:-1, 0:1]\n",
        "d_y=t[1:, 1:2]-t[:-1, 1:2]\n",
        "#d_y=y[1:]-y[:-1]\n",
        "dyx=d_y/d_x\n",
        "print(dyx.shape)"
      ],
      "execution_count": 156,
      "outputs": [
        {
          "output_type": "stream",
          "text": [
            "(100, 1)\n"
          ],
          "name": "stdout"
        }
      ]
    },
    {
      "cell_type": "markdown",
      "metadata": {
        "id": "FpBQz8x28Con"
      },
      "source": [
        "#Problem 4"
      ]
    },
    {
      "cell_type": "code",
      "metadata": {
        "colab": {
          "base_uri": "https://localhost:8080/",
          "height": 295
        },
        "id": "yrNcO7dD8Dz-",
        "outputId": "45ec6853-4ce6-4844-be2b-fa825510e9fd"
      },
      "source": [
        "import matplotlib.pyplot as plt\n",
        "%matplotlib inline\n",
        "plt.title(\"Gradient of linear func\")\n",
        "plt.xlabel(\"x\")\n",
        "plt.xlim(min(x)*1.1, max(x)*1.1)\n",
        "plt.ylabel(\"dy/x\")\n",
        "plt.plot(x[:-1],dyx)\n",
        "plt.show()"
      ],
      "execution_count": 174,
      "outputs": [
        {
          "output_type": "display_data",
          "data": {
            "image/png": "[encoded data removed]",
            "text/plain": [
              "<Figure size 432x288 with 1 Axes>"
            ]
          },
          "metadata": {
            "tags": [],
            "needs_background": "light"
          }
        }
      ]
    },
    {
      "cell_type": "markdown",
      "metadata": {
        "id": "x1H6Lvnm-T7F"
      },
      "source": [
        "# Problem 5,6"
      ]
    },
    {
      "cell_type": "code",
      "metadata": {
        "id": "FstKSr2d-VAK"
      },
      "source": [
        "import numpy as np\n",
        "import math\n",
        "import matplotlib.pyplot as plt\n",
        "def compute_gradient(function, x_range=(-50,50.1,0.1)):\n",
        "  x=x_range.reshape(x_range.size,1)\n",
        "  y=function(x)\n",
        "  array_xy=np.concatenate((x,y), axis=1)\n",
        "  d_x=array_xy[1:, 0:1]-array_xy[:-1, 0:1]\n",
        "  d_y=array_xy[1:, 1:2]-array_xy[:-1, 1:2]  \n",
        "  gradient=d_y/d_x\n",
        "  return array_xy, gradient\n",
        "def func1(x): # y=x^2\n",
        "  y=x**2\n",
        "  return y\n",
        "def func2(x): # y=2x^2 + 2^x\n",
        "  y=2*x**2 + 2**x\n",
        "  return y\n",
        "def func3(x): # y=sin(x^0.5)\n",
        "  y=np.sin(x**0.5)\n",
        "  return y  \n",
        "def plot_graph(array_xy, gradient,string):\n",
        "  plt.title(\"Gradient of func\")\n",
        "  plt.xlabel(\"x\")\n",
        "  plt.xlim(array_xy[0:, 0:1].min()*1.1,array_xy[0:, 0:1].max()*1.1)\n",
        "  #plt.ylim(gradient.min()*1.1,gradient.max()*1e-12)\n",
        "  plt.ylabel(\"dy/x\")\n",
        "  plt.plot(array_xy[:-1, 0:1],gradient, label=string)\n",
        "  plt.legend()\n",
        "  plt.show()    \n",
        "arr_x1=np.arange(-10.0,10.1,0.1)\n",
        "arr_x2=np.arange(0,50.1,0.1)\n"
      ],
      "execution_count": 305,
      "outputs": []
    },
    {
      "cell_type": "code",
      "metadata": {
        "colab": {
          "base_uri": "https://localhost:8080/",
          "height": 329
        },
        "id": "XPiwaXBqQzGQ",
        "outputId": "88eeaac6-4577-447c-ec1b-a444e368cce0"
      },
      "source": [
        "\n",
        "array_xy1, gradient1 = compute_gradient(func1,arr_x1)\n",
        "plot_graph(array_xy1, gradient1,\"y=x^2\")\n",
        "print(\"Minimum value of y: {:.2f}\".format(array_xy1[0:, 1:2].min()))\n",
        "pos1=array_xy1[0:,1:2].argmin()\n",
        "print(\"Slope before min: {:.2f} and after min: {:.2f}\".format(gradient1[pos1-1, 0],gradient1[pos1, 0]))\n"
      ],
      "execution_count": 311,
      "outputs": [
        {
          "output_type": "display_data",
          "data": {
            "image/png": "[encoded data removed]",
            "text/plain": [
              "<Figure size 432x288 with 1 Axes>"
            ]
          },
          "metadata": {
            "tags": [],
            "needs_background": "light"
          }
        },
        {
          "output_type": "stream",
          "text": [
            "Minimum value of y: 0.00\n",
            "Slope before min: -0.10 and after min: 0.10\n"
          ],
          "name": "stdout"
        }
      ]
    },
    {
      "cell_type": "code",
      "metadata": {
        "colab": {
          "base_uri": "https://localhost:8080/",
          "height": 329
        },
        "id": "Y9nM_QrlQz6I",
        "outputId": "2814a567-43e8-4d9a-cfe4-653093e42c87"
      },
      "source": [
        "array_xy2, gradient2 = compute_gradient(func2,arr_x1)\n",
        "plot_graph(array_xy2, gradient2,\"y=2x^2 + 2^x\")\n",
        "print(\"Minimum value of y: {:.2f}\".format(array_xy1[0:, 1:2].min()))\n",
        "pos2=array_xy2[0:,1:2].argmin()\n",
        "print(\"Slope before min: {:.2f} and after min: {:.2f}\".format(gradient2[pos2-1, 0],gradient2[pos2, 0]))"
      ],
      "execution_count": 310,
      "outputs": [
        {
          "output_type": "display_data",
          "data": {
            "image/png": "[encoded data removed]",
            "text/plain": [
              "<Figure size 432x288 with 1 Axes>"
            ]
          },
          "metadata": {
            "tags": [],
            "needs_background": "light"
          }
        },
        {
          "output_type": "stream",
          "text": [
            "Minimum value of y: 0.00\n",
            "Slope before min: -0.42 and after min: 0.02\n"
          ],
          "name": "stdout"
        }
      ]
    },
    {
      "cell_type": "code",
      "metadata": {
        "colab": {
          "base_uri": "https://localhost:8080/",
          "height": 346
        },
        "id": "J841vKAwRY55",
        "outputId": "8deec3df-1e99-437e-f2b7-0eef9851bbd5"
      },
      "source": [
        "array_xy3, gradient3 = compute_gradient(func3,arr_x2)\n",
        "plot_graph(array_xy3, gradient3,\"y=sin(x^0.5)\")\n",
        "print(\"Minimum value of y: {:.2f}\".format(array_xy1[0:, 1:2].min()))\n",
        "pos3=array_xy3[0:,1:2].argmin()\n",
        "print(\"Slope before min: {:.5f} and after min: {:.5f}\".format(gradient3[pos3-1,0],gradient3[pos3,0]))"
      ],
      "execution_count": 322,
      "outputs": [
        {
          "output_type": "display_data",
          "data": {
            "image/png": "[encoded data removed]",
            "text/plain": [
              "<Figure size 432x288 with 1 Axes>"
            ]
          },
          "metadata": {
            "tags": [],
            "needs_background": "light"
          }
        },
        {
          "output_type": "stream",
          "text": [
            "Minimum value of y: 0.00\n",
            "0.0004874477930660974\n",
            "Slope before min: -0.00064 and after min: 0.00049\n"
          ],
          "name": "stdout"
        }
      ]
    },
    {
      "cell_type": "markdown",
      "metadata": {
        "id": "yw7QN4e4Xvje"
      },
      "source": [
        "# Problem 6"
      ]
    },
    {
      "cell_type": "code",
      "metadata": {
        "id": "DeaBnqW6XxV-"
      },
      "source": [
        ""
      ],
      "execution_count": null,
      "outputs": []
    }
  ]
}