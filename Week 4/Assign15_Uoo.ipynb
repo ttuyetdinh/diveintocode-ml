{
  "nbformat": 4,
  "nbformat_minor": 0,
  "metadata": {
    "colab": {
      "name": "Assign15_Uoo.ipynb",
      "provenance": [],
      "collapsed_sections": [],
      "authorship_tag": "ABX9TyPkxPwPDZsT+McPcAuqpBAP",
      "include_colab_link": true
    },
    "kernelspec": {
      "name": "python3",
      "display_name": "Python 3"
    },
    "language_info": {
      "name": "python"
    }
  },
  "cells": [
    {
      "cell_type": "markdown",
      "metadata": {
        "id": "view-in-github",
        "colab_type": "text"
      },
      "source": [
        "<a href=\"https://colab.research.google.com/github/ttuyetdinh/diveintocode-ml/blob/master/Week%204/Assign15_Uoo.ipynb\" target=\"_parent\"><img src=\"https://colab.research.google.com/assets/colab-badge.svg\" alt=\"Open In Colab\"/></a>"
      ]
    },
    {
      "cell_type": "markdown",
      "metadata": {
        "id": "VjL2rHKNJI9R"
      },
      "source": [
        "#Problem1"
      ]
    },
    {
      "cell_type": "code",
      "metadata": {
        "id": "4ZmMaXk8JLCA"
      },
      "source": [
        "from sklearn.linear_model import LinearRegression\n",
        "from sklearn.preprocessing import StandardScaler\n",
        "from sklearn.svm import SVR\n",
        "from sklearn.tree import DecisionTreeRegressor\n",
        "from sklearn.ensemble import RandomForestRegressor\n",
        "import pandas as pd\n",
        "import numpy as np\n",
        "from sklearn.datasets import load_iris\n",
        "import math"
      ],
      "execution_count": 81,
      "outputs": []
    },
    {
      "cell_type": "code",
      "metadata": {
        "colab": {
          "base_uri": "https://localhost:8080/"
        },
        "id": "pNrEP1BfOoSN",
        "outputId": "a8ef07a3-8bff-417d-c0f3-2493c3ff54fc"
      },
      "source": [
        "# These are classes that i have used in previous assignments\n",
        "svr = SVR()\n",
        "tree = DecisionTreeRegressor()\n",
        "forest = RandomForestRegressor()\n",
        "reg = LinearRegression()\n",
        "scaler = StandardScaler()\n",
        "df = pd.DataFrame({'col1': [1, 2], 'col2': [3, 4]})\n",
        "sr = pd.Series()"
      ],
      "execution_count": 82,
      "outputs": [
        {
          "output_type": "stream",
          "text": [
            "/usr/local/lib/python3.7/dist-packages/ipykernel_launcher.py:8: DeprecationWarning: The default dtype for empty Series will be 'object' instead of 'float64' in a future version. Specify a dtype explicitly to silence this warning.\n",
            "  \n"
          ],
          "name": "stderr"
        }
      ]
    },
    {
      "cell_type": "markdown",
      "metadata": {
        "id": "JAbl2CGWSdTV"
      },
      "source": [
        "#Problem 2\n"
      ]
    },
    {
      "cell_type": "code",
      "metadata": {
        "colab": {
          "base_uri": "https://localhost:8080/",
          "height": 106
        },
        "id": "kDrcCLBSSgK4",
        "outputId": "c513bc9d-171b-4b7e-fa3c-14148fdf52f6"
      },
      "source": [
        "# In Class DataFrame(), we have:\n",
        "# Some attribute or variable:\n",
        "df.shape\n",
        "df.size\n",
        "df.index\n",
        "df. columns\n",
        "df.style\n",
        "# Some method:\n",
        "df.abs()\n",
        "df.describe()\n",
        "df.copy()\n",
        "df.head()\n",
        "df.isnull()"
      ],
      "execution_count": 83,
      "outputs": [
        {
          "output_type": "execute_result",
          "data": {
            "text/html": [
              "<div>\n",
              "<style scoped>\n",
              "    .dataframe tbody tr th:only-of-type {\n",
              "        vertical-align: middle;\n",
              "    }\n",
              "\n",
              "    .dataframe tbody tr th {\n",
              "        vertical-align: top;\n",
              "    }\n",
              "\n",
              "    .dataframe thead th {\n",
              "        text-align: right;\n",
              "    }\n",
              "</style>\n",
              "<table border=\"1\" class=\"dataframe\">\n",
              "  <thead>\n",
              "    <tr style=\"text-align: right;\">\n",
              "      <th></th>\n",
              "      <th>col1</th>\n",
              "      <th>col2</th>\n",
              "    </tr>\n",
              "  </thead>\n",
              "  <tbody>\n",
              "    <tr>\n",
              "      <th>0</th>\n",
              "      <td>False</td>\n",
              "      <td>False</td>\n",
              "    </tr>\n",
              "    <tr>\n",
              "      <th>1</th>\n",
              "      <td>False</td>\n",
              "      <td>False</td>\n",
              "    </tr>\n",
              "  </tbody>\n",
              "</table>\n",
              "</div>"
            ],
            "text/plain": [
              "    col1   col2\n",
              "0  False  False\n",
              "1  False  False"
            ]
          },
          "metadata": {
            "tags": []
          },
          "execution_count": 83
        }
      ]
    },
    {
      "cell_type": "markdown",
      "metadata": {
        "id": "XdOj5kgPY9py"
      },
      "source": [
        "#Problem 3"
      ]
    },
    {
      "cell_type": "code",
      "metadata": {
        "id": "7_dKBFDvY_sv"
      },
      "source": [
        "class ScratchStandardScaler():\n",
        "    \"\"\"\n",
        "\n",
        "    Attributes\n",
        "    ----------\n",
        "    mean_ :ndarray, shape(n_features,)\n",
        "\n",
        "    var_ :ndarray, shape(n_features,)\n",
        "        分散\n",
        "    \"\"\"\n",
        "    def fit(self, X):\n",
        "        \"\"\"\n",
        "        Parameters\n",
        "        ----------\n",
        "        X : ndarray, shape (n_samples, n_features)\n",
        "\n",
        "        \"\"\"\n",
        "        self.mean_ = X.mean(axis=0)\n",
        "        self.var_ = X.var(axis=0)\n",
        "    def transform(self, X):\n",
        "        \"\"\"\n",
        "        fit\n",
        "        Parameters\n",
        "        ----------\n",
        "        X :ndarray, shape (n_samples, n_features)\n",
        "\n",
        "        Returns\n",
        "        ----------\n",
        "        X_scaled :ndarray, shape (n_samples, n_features)\n",
        "        \"\"\"\n",
        "        X_scaled=np.zeros(X.shape)\n",
        "        for i in range(X.shape[1]):\n",
        "          for j in range(X.shape[0]):\n",
        "              X_scaled[j][i]= (X[j][i]-self.mean_[i])/math.sqrt(self.var_[i])\n",
        "        pass\n",
        "        return X_scaled"
      ],
      "execution_count": 84,
      "outputs": []
    },
    {
      "cell_type": "code",
      "metadata": {
        "colab": {
          "base_uri": "https://localhost:8080/"
        },
        "id": "nKBUtOVIkNyd",
        "outputId": "36112113-c603-4a87-9b30-6250c5ecbbc2"
      },
      "source": [
        "data = load_iris()\n",
        "X = data.data[:10]\n",
        "scratch_scaler = ScratchStandardScaler()\n",
        "scratch_scaler.fit(X)\n",
        "print(X)\n",
        "print(\"Mean: {}\".format(scratch_scaler.mean_[0]))\n",
        "print(\"Var : {}\".format(scratch_scaler.var_))\n",
        "X_std = scratch_scaler.transform(X)\n",
        "print(X_std)\n"
      ],
      "execution_count": 85,
      "outputs": [
        {
          "output_type": "stream",
          "text": [
            "[[5.1 3.5 1.4 0.2]\n",
            " [4.9 3.  1.4 0.2]\n",
            " [4.7 3.2 1.3 0.2]\n",
            " [4.6 3.1 1.5 0.2]\n",
            " [5.  3.6 1.4 0.2]\n",
            " [5.4 3.9 1.7 0.4]\n",
            " [4.6 3.4 1.4 0.3]\n",
            " [5.  3.4 1.5 0.2]\n",
            " [4.4 2.9 1.4 0.2]\n",
            " [4.9 3.1 1.5 0.1]]\n",
            "Mean: 4.859999999999999\n",
            "Var : [0.0764 0.0849 0.0105 0.0056]\n",
            "[[ 0.86828953  0.65207831 -0.48795004 -0.26726124]\n",
            " [ 0.14471492 -1.06391725 -0.48795004 -0.26726124]\n",
            " [-0.57885968 -0.37751902 -1.46385011 -0.26726124]\n",
            " [-0.94064699 -0.72071813  0.48795004 -0.26726124]\n",
            " [ 0.50650222  0.99527742 -0.48795004 -0.26726124]\n",
            " [ 1.95365143  2.02487476  2.43975018  2.40535118]\n",
            " [-0.94064699  0.3088792  -0.48795004  1.06904497]\n",
            " [ 0.50650222  0.3088792   0.48795004 -0.26726124]\n",
            " [-1.66422159 -1.40711636 -0.48795004 -0.26726124]\n",
            " [ 0.14471492 -0.72071813  0.48795004 -1.60356745]]\n"
          ],
          "name": "stdout"
        }
      ]
    },
    {
      "cell_type": "markdown",
      "metadata": {
        "id": "sm6gsIhq0k8i"
      },
      "source": [
        "#Problem 4"
      ]
    },
    {
      "cell_type": "code",
      "metadata": {
        "colab": {
          "base_uri": "https://localhost:8080/"
        },
        "id": "PLT5sPgk0oh1",
        "outputId": "fd4a8ada-e6df-4be6-e613-97dec517ce44"
      },
      "source": [
        "class ExampleClass():\n",
        "    def __init__(self, value):\n",
        "      try:\n",
        "        self.value = float(value)\n",
        "        print(\"Initial value: {}\".format(self.value))\n",
        "      except:\n",
        "        print('Not suitable data type')\n",
        "\n",
        "    def add(self, param = 0):\n",
        "      self.calculate(param,1)\n",
        "\n",
        "    def minus(self, param = 0):\n",
        "      self.calculate(param,2)\n",
        "      \n",
        "    def divide(self, param = 1):\n",
        "     self.calculate(param,3)\n",
        "\n",
        "    def multi(self, param = 1):\n",
        "      self.calculate(param,4)\n",
        "\n",
        "    def calculate(self, param, mode):\n",
        "      try:\n",
        "        if mode==1: # +\n",
        "           self.value += param\n",
        "        elif mode==2:# -\n",
        "          self.value -= param\n",
        "        elif mode==3: # /\n",
        "          if (param == 0):\n",
        "              print('Can divide zero !!')\n",
        "          else:\n",
        "              self.value /=param\n",
        "        elif mode==4: # *\n",
        "           self.value *= param\n",
        "      except:\n",
        "        print(\"Not suitable data type\")   \n",
        "              \n",
        "example = ExampleClass(5)\n",
        "example.add([1,2,3])\n",
        "print(\"1value : {}\".format(example.value))\n",
        "example.minus(2)\n",
        "print(\"2value : {}\".format(example.value))\n",
        "example.divide(2)\n",
        "print(\"3value : {}\".format(example.value))\n",
        "example.multi(3)\n",
        "print(\"4value : {}\".format(example.value))"
      ],
      "execution_count": 86,
      "outputs": [
        {
          "output_type": "stream",
          "text": [
            "Initial value: 5.0\n",
            "Not suitable data type\n",
            "1value : 5.0\n",
            "2value : 3.0\n",
            "3value : 1.5\n",
            "4value : 4.5\n"
          ],
          "name": "stdout"
        }
      ]
    },
    {
      "cell_type": "code",
      "metadata": {
        "id": "2nWFedmN1ZfN"
      },
      "source": [
        ""
      ],
      "execution_count": 86,
      "outputs": []
    }
  ]
}