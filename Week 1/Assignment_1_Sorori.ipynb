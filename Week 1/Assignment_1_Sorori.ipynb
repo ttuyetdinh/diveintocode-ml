{
  "nbformat": 4,
  "nbformat_minor": 0,
  "metadata": {
    "colab": {
      "name": "Assignment 1 Sorori.ipynb",
      "provenance": [],
      "collapsed_sections": []
    },
    "kernelspec": {
      "name": "python3",
      "display_name": "Python 3"
    }
  },
  "cells": [
    {
      "cell_type": "markdown",
      "metadata": {
        "id": "urxTFRpXqGp9"
      },
      "source": [
        "#Problem 1"
      ]
    },
    {
      "cell_type": "code",
      "metadata": {
        "colab": {
          "base_uri": "https://localhost:8080/",
          "height": 295
        },
        "id": "UN9wZxYwqMLI",
        "outputId": "38a35db0-51e0-4c4d-9231-5a0d54d8742e"
      },
      "source": [
        "total_rice=[]\r\n",
        "rice_day=[]\r\n",
        "NUM_DAYS= 100\r\n",
        "totalrice=1\r\n",
        "rice_in_day=1\r\n",
        "for i in range (NUM_DAYS):\r\n",
        "  total_rice.append(totalrice)\r\n",
        "  rice_day.append(rice_in_day)\r\n",
        "  rice_in_day*=2\r\n",
        "  totalrice+=rice_in_day\r\n",
        "import matplotlib.pyplot as plt\r\n",
        "%matplotlib inline\r\n",
        "plt.title(\"Shinzaemon's rice\")\r\n",
        "plt.xlabel(\"Days\")\r\n",
        "plt.ylabel(\"Number of rice\")\r\n",
        "plt.plot(rice_day, label=\"rice in day\") \r\n",
        "plt.plot(total_rice, label=\"total rice\") \r\n",
        "plt.legend()\r\n",
        "plt.show()\r\n",
        "\r\n"
      ],
      "execution_count": 33,
      "outputs": [
        {
          "output_type": "display_data",
          "data": {
            "image/png": "[encoded data removed]",
            "text/plain": [
              "<Figure size 432x288 with 1 Axes>"
            ]
          },
          "metadata": {
            "tags": [],
            "needs_background": "light"
          }
        }
      ]
    },
    {
      "cell_type": "markdown",
      "metadata": {
        "id": "N0Y-7PCRxzgv"
      },
      "source": [
        "#Problem 2"
      ]
    },
    {
      "cell_type": "code",
      "metadata": {
        "colab": {
          "base_uri": "https://localhost:8080/",
          "height": 295
        },
        "id": "Ru1W4Ui8x2D9",
        "outputId": "4c4ba1e8-6a89-4438-9abe-34faab5c54cc"
      },
      "source": [
        "def compute_sorori_shinzaemon(day=100):\r\n",
        "    \"\"\"\r\n",
        "    A function that verifies the anecdote of rice by Sorori Shinzaemon. Calculate the number of rice grains per day.\r\n",
        "    Parameteres\r\n",
        "    --------------\r\n",
        "    day: int\r\n",
        "        Number of days to get rice (default : 100)\r\n",
        "    Returns\r\n",
        "    --------------\r\n",
        "    list_n_grains : list\r\n",
        "        List of the number of rice you get one day (the length of the list is equal to day)\r\n",
        "    list_total_grains : list\r\n",
        "        List of the total number of rice you will receive by a certain day (the length of the list will be equal to day)\r\n",
        "    \"\"\"\r\n",
        "    # Write the code here. pass is an instruction that means do nothing.\r\n",
        "    list_n_grains=[]\r\n",
        "    list_total_grains=[]\r\n",
        "    totalrice=1\r\n",
        "    rice_in_day=1\r\n",
        "    for i in range (day):\r\n",
        "      list_total_grains.append(totalrice)\r\n",
        "      list_n_grains.append(rice_in_day)\r\n",
        "      rice_in_day*=2\r\n",
        "      totalrice+=rice_in_day\r\n",
        "    pass\r\n",
        "    return list_n_grains, list_total_grains\r\n",
        "def plot_graph(list_n_grains, list_total_grains):\r\n",
        "  import matplotlib.pyplot as plt\r\n",
        "  %matplotlib inline\r\n",
        "  plt.title(\"Shinzaemon's rice\")\r\n",
        "  plt.xlabel(\"Days\")\r\n",
        "  plt.ylabel(\"Number of rice\")\r\n",
        "  plt.plot(list_n_grains, label=\"rice in day\") \r\n",
        "  plt.plot(list_total_grains, label=\"total rice\") \r\n",
        "  plt.legend()\r\n",
        "  plt.show()\r\n",
        "  return\r\n",
        "list_n_grains, list_total_grains = compute_sorori_shinzaemon(day=10)\r\n",
        "plot_graph(list_n_grains, list_total_grains)\r\n",
        "\r\n"
      ],
      "execution_count": 7,
      "outputs": [
        {
          "output_type": "display_data",
          "data": {
            "image/png": "[encoded data removed]",
            "text/plain": [
              "<Figure size 432x288 with 1 Axes>"
            ]
          },
          "metadata": {
            "tags": [],
            "needs_background": "light"
          }
        }
      ]
    },
    {
      "cell_type": "markdown",
      "metadata": {
        "id": "ajReHMCr22Oa"
      },
      "source": [
        "#Problem 3\r\n",
        "* Accoding to The American Genius (https:/\r\n",
        "/theamericangenius.com/real-estate-coaching-tutorials/how-many-grains-of-rice-will-it-take/) one grain rice contain 0.031 calories and assume that a mature human need around 2000 calories/day\r\n",
        "* Assume this DIC class have 50 student and this course last for 9 months~270 days.\r\n",
        "\r\n",
        "\r\n",
        " \r\n",
        " "
      ]
    },
    {
      "cell_type": "code",
      "metadata": {
        "colab": {
          "base_uri": "https://localhost:8080/"
        },
        "id": "VCj-x4Lw25LC",
        "outputId": "db881b77-4fce-4811-a775-f6c146880eb1"
      },
      "source": [
        "def day_to_live(rice_grains=10, num_people=10, calories_needed=2000, calories_per_rice=0.031):\r\n",
        "  return rice_grains*calories_per_rice / (num_people*calories_needed)\r\n",
        "day_rices,total_rices=compute_sorori_shinzaemon(270)\r\n",
        "day_left=day_to_live(total_rices[-1],50,2000)\r\n",
        "print(\"Day left to live: {}\".format(day_left))\r\n"
      ],
      "execution_count": 27,
      "outputs": [
        {
          "output_type": "stream",
          "text": [
            "Day left to live: 5.881126529198984e+74\n"
          ],
          "name": "stdout"
        }
      ]
    },
    {
      "cell_type": "code",
      "metadata": {
        "id": "MBjlIDff8zpc"
      },
      "source": [
        ""
      ],
      "execution_count": null,
      "outputs": []
    }
  ]
}