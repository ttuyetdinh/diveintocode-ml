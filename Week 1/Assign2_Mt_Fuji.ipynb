{
  "nbformat": 4,
  "nbformat_minor": 0,
  "metadata": {
    "colab": {
      "name": "Assign2 Mt.Fuji.ipynb",
      "provenance": [],
      "authorship_tag": "ABX9TyO9BTzL8VQJIwg1eV/QW9cV",
      "include_colab_link": true
    },
    "kernelspec": {
      "name": "python3",
      "display_name": "Python 3"
    }
  },
  "cells": [
    {
      "cell_type": "markdown",
      "metadata": {
        "id": "view-in-github",
        "colab_type": "text"
      },
      "source": [
        "<a href=\"https://colab.research.google.com/github/ttuyetdinh/diveintocode-ml/blob/master/Assign2_Mt_Fuji.ipynb\" target=\"_parent\"><img src=\"https://colab.research.google.com/assets/colab-badge.svg\" alt=\"Open In Colab\"/></a>"
      ]
    },
    {
      "cell_type": "markdown",
      "metadata": {
        "id": "RhvnyGB9KZfY"
      },
      "source": [
        "#Problem 1\r\n"
      ]
    },
    {
      "cell_type": "code",
      "metadata": {
        "colab": {
          "base_uri": "https://localhost:8080/"
        },
        "id": "3FcQCj1IKbZc",
        "outputId": "9926c5d2-47d7-444a-993c-fd1ca2eb7833"
      },
      "source": [
        "import math\r\n",
        "THICKNESS = 0.00008\r\n",
        "HEIGHT= 3776 # Mt.Fuji height\r\n",
        "time_to_fold=math.log(HEIGHT/THICKNESS,2)\r\n",
        "time_to_fold=math.ceil(time_to_fold)\r\n",
        "print(\"Time to fold to exceed the height: {}\".format(time_to_fold))"
      ],
      "execution_count": 1,
      "outputs": [
        {
          "output_type": "stream",
          "text": [
            "Time to fold to exceed the height: 26\n"
          ],
          "name": "stdout"
        }
      ]
    },
    {
      "cell_type": "markdown",
      "metadata": {
        "id": "OXnn6j8nQCCi"
      },
      "source": [
        "#Problem 2\r\n",
        "  According to wiki, Proxima Centauri is the nearest-known star to the Sun and located  4.2465 light-years away from the Sun\r\n",
        "\r\n",
        "  All unit are measure in meters\r\n",
        "```\r\n",
        "  1 light-years = 9.4607x10^15 meters\r\n",
        "```\r\n"
      ]
    },
    {
      "cell_type": "code",
      "metadata": {
        "colab": {
          "base_uri": "https://localhost:8080/"
        },
        "id": "ZZE7Gtz2QFMW",
        "outputId": "e145fd5f-308f-4e84-fea8-a88b5ee89d1f"
      },
      "source": [
        "import math\r\n",
        "THICKNESS = 0.00008\r\n",
        "DISTANCE = 4.2465 # light-years\r\n",
        "LIGHT_YEARS = 9.4607e15\r\n",
        "def folding(distance= 3776, thickness=0.00008 ):\r\n",
        "  fold=math.log(distance/thickness,2)\r\n",
        "  fold=math.ceil(fold)\r\n",
        "  return fold\r\n",
        "meters_to_centauri= DISTANCE*LIGHT_YEARS\r\n",
        "time_folded=folding(meters_to_centauri,THICKNESS)\r\n",
        "print(\"Time folded to reach the destination: {}\".format(time_folded))"
      ],
      "execution_count": 2,
      "outputs": [
        {
          "output_type": "stream",
          "text": [
            "Time folded to reach the destination: 69\n"
          ],
          "name": "stdout"
        }
      ]
    },
    {
      "cell_type": "markdown",
      "metadata": {
        "id": "EsziKxEoVPg9"
      },
      "source": [
        "# Problem 3"
      ]
    },
    {
      "cell_type": "code",
      "metadata": {
        "colab": {
          "base_uri": "https://localhost:8080/"
        },
        "id": "kJt9KiGYVgP2",
        "outputId": "53163e9f-136c-4621-900c-1c4a295dad12"
      },
      "source": [
        "import math\r\n",
        "THICKNESS = 0.00008\r\n",
        "DISTANCE_TO_CENTAURI = 4.2465 # light-years\r\n",
        "DISTANCE_TO_MOON = 3.844e8\r\n",
        "FUJI_HEIGHT= 3776\r\n",
        "LIGHT_YEARS = 9.4607e15\r\n",
        "def folding(distance= 3776, thickness=0.00008 ):\r\n",
        "  fold=math.log(distance/thickness,2)\r\n",
        "  fold=math.ceil(fold)\r\n",
        "  return fold\r\n",
        "def paper_length(folded_time=10, thickness=0.00008):\r\n",
        "  len=(math.pi*thickness/6)*(2**folded_time+4)*(2**folded_time-1)\r\n",
        "  return len\r\n",
        "# closet star  \r\n",
        "meters_to_centauri= DISTANCE_TO_CENTAURI*LIGHT_YEARS  \r\n",
        "time_folded=folding(meters_to_centauri,THICKNESS)\r\n",
        "length=paper_length(time_folded,THICKNESS)\r\n",
        "print(\"Length of paper needed to reach the Centauri when folded:\\n{} meters\".format(length))\r\n",
        "# Moon\r\n",
        "time_folded=folding(DISTANCE_TO_MOON,THICKNESS)\r\n",
        "length=paper_length(time_folded,THICKNESS)\r\n",
        "print(\"Length of paper needed to reach the Moon when folded:\\n{} meters\".format(length))\r\n",
        "# FUJI\r\n",
        "time_folded=folding(FUJI_HEIGHT,THICKNESS)\r\n",
        "length=paper_length(time_folded,THICKNESS)\r\n",
        "print(\"Length of paper needed to reach the Fuji when folded:\\n{} meters\".format(length))"
      ],
      "execution_count": 10,
      "outputs": [
        {
          "output_type": "stream",
          "text": [
            "Length of paper needed to reach the Centauri when folded:\n",
            "1.4595803601100348e+37 meters\n",
            "Length of paper needed to reach the Moon when folded:\n",
            "3.240919444170781e+21 meters\n",
            "Length of paper needed to reach the Fuji when folded:\n",
            "188646348487.24017 meters\n"
          ],
          "name": "stdout"
        }
      ]
    },
    {
      "cell_type": "code",
      "metadata": {
        "id": "7a2SzKCfbakQ"
      },
      "source": [
        ""
      ],
      "execution_count": null,
      "outputs": []
    }
  ]
}