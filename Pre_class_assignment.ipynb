{
  "nbformat": 4,
  "nbformat_minor": 0,
  "metadata": {
    "colab": {
      "name": "Pre-class assignment.ipynb",
      "provenance": [],
      "collapsed_sections": []
    },
    "kernelspec": {
      "name": "python3",
      "display_name": "Python 3"
    }
  },
  "cells": [
    {
      "cell_type": "markdown",
      "metadata": {
        "id": "LOhgJO-ULC9A"
      },
      "source": [
        "#Problem 1\r\n"
      ]
    },
    {
      "cell_type": "code",
      "metadata": {
        "colab": {
          "base_uri": "https://localhost:8080/"
        },
        "id": "SqnPG2KELITj",
        "outputId": "b17eb3a2-3745-43a6-d3e5-016fbdb631d7"
      },
      "source": [
        "\"\"\"\r\n",
        "Code to calculate the thickness when the paper is folded 43 times\r\n",
        "\"\"\"\r\n",
        "THICKNESS = 0.00008\r\n",
        "folded_thickness = THICKNESS*(2**43)\r\n",
        "print(\"Thickness: {} meters\".format(folded_thickness))"
      ],
      "execution_count": null,
      "outputs": [
        {
          "output_type": "stream",
          "text": [
            "Thickness: 703687441.77664 meters\n"
          ],
          "name": "stdout"
        }
      ]
    },
    {
      "cell_type": "markdown",
      "metadata": {
        "id": "FyRmNty3L6MP"
      },
      "source": [
        "#Problem 2"
      ]
    },
    {
      "cell_type": "code",
      "metadata": {
        "colab": {
          "base_uri": "https://localhost:8080/"
        },
        "id": "0DJ5T4u4L9TS",
        "outputId": "7cd5c913-9149-489d-b17d-3c0eae0acca5"
      },
      "source": [
        "# Convert meters to kilometers and display with two decimal places\r\n",
        "print(\"Thickness: {:.2f} kilometers\".format(folded_thickness/1000))\r\n"
      ],
      "execution_count": null,
      "outputs": [
        {
          "output_type": "stream",
          "text": [
            "Thickness: 703687.44 kilometers\n"
          ],
          "name": "stdout"
        }
      ]
    },
    {
      "cell_type": "markdown",
      "metadata": {
        "id": "rZrAXbamPn9X"
      },
      "source": [
        "#Problem 3"
      ]
    },
    {
      "cell_type": "code",
      "metadata": {
        "id": "WchJ_wFyMZ3V"
      },
      "source": [
        ""
      ],
      "execution_count": null,
      "outputs": []
    },
    {
      "cell_type": "code",
      "metadata": {
        "colab": {
          "base_uri": "https://localhost:8080/"
        },
        "id": "76PJV8wMPrd7",
        "outputId": "f4dd358d-b8e9-4b85-b777-75d4b91e6fb3"
      },
      "source": [
        "\"\"\"\r\n",
        "Code to calculate the thickness when the paper is folded 43 times\r\n",
        "\"\"\"\r\n",
        "THICKNESS = 0.00008\r\n",
        "x=1\r\n",
        "for i in range(43):\r\n",
        "  x*=2\r\n",
        "folded_thickness = THICKNESS*x\r\n",
        "print(\"Thickness: {} meters\".format(folded_thickness))\r\n"
      ],
      "execution_count": null,
      "outputs": [
        {
          "output_type": "stream",
          "text": [
            "Thickness: 703687441.77664 meters\n"
          ],
          "name": "stdout"
        }
      ]
    },
    {
      "cell_type": "markdown",
      "metadata": {
        "id": "TvjjSPD0TeLJ"
      },
      "source": [
        "#Problem 4"
      ]
    },
    {
      "cell_type": "markdown",
      "metadata": {
        "id": "jQY8UK0dWbM7"
      },
      "source": [
        ""
      ]
    },
    {
      "cell_type": "code",
      "metadata": {
        "colab": {
          "base_uri": "https://localhost:8080/"
        },
        "id": "OvsKrpxmTgjT",
        "outputId": "7f36cc02-0be0-44d9-9a10-324d25b62c22"
      },
      "source": [
        "import time\r\n",
        "start = time.time()\r\n",
        "#####\r\n",
        "# Paste the code you want to compare here\r\n",
        "THICKNESS = 0.00008\r\n",
        "folded_thickness = THICKNESS*(2**43)\r\n",
        "print(\"Thickness: {} meters\".format(folded_thickness))\r\n",
        "#####\r\n",
        "elapsed_time = time.time() - start\r\n",
        "print(\"Using exponential operator, time : {}[s]\".format(elapsed_time))\r\n",
        "###### Using for loop #######\r\n",
        "start = time.time()\r\n",
        "#####\r\n",
        "# Paste the code you want to compare here\r\n",
        "THICKNESS = 0.00008\r\n",
        "x=1\r\n",
        "for i in range(43):\r\n",
        "  x*=2\r\n",
        "folded_thickness = THICKNESS*x\r\n",
        "print(\"Thickness: {} meters\".format(folded_thickness))\r\n",
        "#####\r\n",
        "elapsed_time = time.time() - start\r\n",
        "print(\"Using for loop, time :             {}[s]\".format(elapsed_time))"
      ],
      "execution_count": null,
      "outputs": [
        {
          "output_type": "stream",
          "text": [
            "Thickness: 703687441.77664 meters\n",
            "Using exponential operator, time : 0.0006091594696044922[s]\n",
            "Thickness: 703687441.77664 meters\n",
            "Using for loop, time :             0.00043129920959472656[s]\n"
          ],
          "name": "stdout"
        }
      ]
    },
    {
      "cell_type": "code",
      "metadata": {
        "id": "FcXMdichUK1f"
      },
      "source": [
        "%%timeit\r\n",
        "THICKNESS = 0.00008\r\n",
        "folded_thickness = THICKNESS*(2**43)\r\n",
        "print(\"Thickness: {} meters\".format(folded_thickness))"
      ],
      "execution_count": null,
      "outputs": []
    },
    {
      "cell_type": "code",
      "metadata": {
        "id": "2P8jsNEbUPnq"
      },
      "source": [
        "%%timeit\r\n",
        "THICKNESS = 0.00008\r\n",
        "x=1\r\n",
        "for i in range(43):\r\n",
        "  x*=2\r\n",
        "folded_thickness = THICKNESS*x\r\n",
        "print(\"Thickness: {} meters\".format(folded_thickness))"
      ],
      "execution_count": null,
      "outputs": []
    },
    {
      "cell_type": "markdown",
      "metadata": {
        "id": "t4go_MwOXuF2"
      },
      "source": [
        "#Problem 5"
      ]
    },
    {
      "cell_type": "code",
      "metadata": {
        "colab": {
          "base_uri": "https://localhost:8080/"
        },
        "id": "n8_zNkIfXwuK",
        "outputId": "d2f0ba95-0947-4493-82ef-fc8472c70a12"
      },
      "source": [
        "list_thickness = []\r\n",
        "THICKNESS = 0.00008\r\n",
        "x=1\r\n",
        "for i in range(44):\r\n",
        "  folded_thickness = THICKNESS*x\r\n",
        "  list_thickness.append(folded_thickness)\r\n",
        "  x*=2\r\n",
        "print(\"Length of list: {}\".format(len(list_thickness)))\r\n",
        "print(list_thickness)"
      ],
      "execution_count": null,
      "outputs": [
        {
          "output_type": "stream",
          "text": [
            "Length of list: 44\n",
            "[8e-05, 0.00016, 0.00032, 0.00064, 0.00128, 0.00256, 0.00512, 0.01024, 0.02048, 0.04096, 0.08192, 0.16384, 0.32768, 0.65536, 1.31072, 2.62144, 5.24288, 10.48576, 20.97152, 41.94304, 83.88608, 167.77216, 335.54432, 671.08864, 1342.17728, 2684.35456, 5368.70912, 10737.41824, 21474.83648, 42949.67296, 85899.34592, 171798.69184, 343597.38368, 687194.76736, 1374389.53472, 2748779.06944, 5497558.13888, 10995116.27776, 21990232.55552, 43980465.11104, 87960930.22208, 175921860.44416, 351843720.88832, 703687441.77664]\n"
          ],
          "name": "stdout"
        }
      ]
    },
    {
      "cell_type": "markdown",
      "metadata": {
        "id": "pr2p8M6cZqc-"
      },
      "source": [
        "#Problem 6"
      ]
    },
    {
      "cell_type": "code",
      "metadata": {
        "colab": {
          "base_uri": "https://localhost:8080/",
          "height": 329
        },
        "id": "_2aJfFZ_Zs0W",
        "outputId": "92e498e7-b465-421e-8565-2e4389fd2d87"
      },
      "source": [
        "\"\"\"\r\n",
        "Display the graph. Title and axis label name.\r\n",
        "\"\"\"\r\n",
        "import matplotlib.pyplot as plt\r\n",
        "%matplotlib inline\r\n",
        "plt.title(\"thickness of folded paper\")\r\n",
        "plt.xlabel(\"number of folds\")\r\n",
        "plt.ylabel(\"thickness[m]\")\r\n",
        "plt.plot(list_thickness) # Enter the variable name of the list in \"List name\"\r\n",
        "plt.show()\r\n",
        "print(\"The thickness of the paper increase exponentially,\\nwhich mean that whenever we fold its thickness is doubled \")"
      ],
      "execution_count": null,
      "outputs": [
        {
          "output_type": "display_data",
          "data": {
            "image/png": "[encoded data removed]",
            "text/plain": [
              "<Figure size 432x288 with 1 Axes>"
            ]
          },
          "metadata": {
            "tags": [],
            "needs_background": "light"
          }
        },
        {
          "output_type": "stream",
          "text": [
            "The thickness of the paper increase exponentially,\n",
            "which mean that whenever we fold its thickness is doubled \n"
          ],
          "name": "stdout"
        }
      ]
    },
    {
      "cell_type": "markdown",
      "metadata": {
        "id": "3bi78EhMbT1s"
      },
      "source": [
        "#Problem 7"
      ]
    },
    {
      "cell_type": "code",
      "metadata": {
        "colab": {
          "base_uri": "https://localhost:8080/",
          "height": 304
        },
        "id": "pyni25TsbWVq",
        "outputId": "0da592bb-a660-48f7-ca02-6870c1338ca0"
      },
      "source": [
        "\"\"\"\r\n",
        "Display the axis value in large size.\r\n",
        "\"\"\"\r\n",
        "plt.title(\"thickness of folded paper\")\r\n",
        "plt.xlabel(\"number of folds\")\r\n",
        "plt.ylabel(\"thickness[m]\")\r\n",
        "plt.tick_params(labelsize=20) # Make settings related to axis values\r\n",
        "#plt.plot(list_thickness,'r+')\r\n",
        "plt.plot(list_thickness, color='green', marker='o', linestyle='dashed',linewidth=2, markersize=5)\r\n",
        "plt.show()"
      ],
      "execution_count": null,
      "outputs": [
        {
          "output_type": "display_data",
          "data": {
            "image/png": "[encoded data removed]",
            "text/plain": [
              "<Figure size 432x288 with 1 Axes>"
            ]
          },
          "metadata": {
            "tags": [],
            "needs_background": "light"
          }
        }
      ]
    },
    {
      "cell_type": "code",
      "metadata": {
        "colab": {
          "base_uri": "https://localhost:8080/",
          "height": 295
        },
        "id": "9giY6Xhic5ha",
        "outputId": "09ac54a6-dd9c-4001-9faf-95cf13629d5b"
      },
      "source": [
        "\"\"\"\r\n",
        "Display the axis value in large size.\r\n",
        "\"\"\"\r\n",
        "plt.title(\"thickness of folded paper\")\r\n",
        "plt.xlabel(\"number of folds\")\r\n",
        "plt.ylabel(\"thickness[m]\")\r\n",
        "plt.tick_params(labelsize=10) # Make settings related to axis values\r\n",
        "plt.plot(list_thickness,'-.|')\r\n",
        "plt.show()"
      ],
      "execution_count": null,
      "outputs": [
        {
          "output_type": "display_data",
          "data": {
            "image/png": "[encoded data removed]",
            "text/plain": [
              "<Figure size 432x288 with 1 Axes>"
            ]
          },
          "metadata": {
            "tags": [],
            "needs_background": "light"
          }
        }
      ]
    },
    {
      "cell_type": "code",
      "metadata": {
        "id": "oSO0OtmudiwJ"
      },
      "source": [
        ""
      ],
      "execution_count": null,
      "outputs": []
    }
  ]
}