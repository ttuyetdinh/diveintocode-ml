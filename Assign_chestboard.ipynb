{
  "nbformat": 4,
  "nbformat_minor": 0,
  "metadata": {
    "colab": {
      "name": "Assign_chestboard.ipynb",
      "provenance": [],
      "collapsed_sections": [],
      "authorship_tag": "ABX9TyPI7+FHo+ZyPXuGnjmBmAjz",
      "include_colab_link": true
    },
    "kernelspec": {
      "name": "python3",
      "display_name": "Python 3"
    }
  },
  "cells": [
    {
      "cell_type": "markdown",
      "metadata": {
        "id": "view-in-github",
        "colab_type": "text"
      },
      "source": [
        "<a href=\"https://colab.research.google.com/github/ttuyetdinh/diveintocode-ml/blob/master/Assign_chestboard.ipynb\" target=\"_parent\"><img src=\"https://colab.research.google.com/assets/colab-badge.svg\" alt=\"Open In Colab\"/></a>"
      ]
    },
    {
      "cell_type": "markdown",
      "metadata": {
        "id": "sfRjYp-ieAsZ"
      },
      "source": [
        "#Problem 1"
      ]
    },
    {
      "cell_type": "code",
      "metadata": {
        "colab": {
          "base_uri": "https://localhost:8080/"
        },
        "id": "oGqOq86nhkqg",
        "outputId": "5c12b72b-60b6-4491-89a9-913f95838636"
      },
      "source": [
        "import numpy as np\r\n",
        "n_squares = 4\r\n",
        "indices_of_squares = np.arange(4)\r\n",
        "small_board_ndarray = 2**indices_of_squares\r\n",
        "small_board_ndarray=small_board_ndarray.reshape(2,2)\r\n",
        "print(small_board_ndarray)"
      ],
      "execution_count": null,
      "outputs": [
        {
          "output_type": "stream",
          "text": [
            "[[1 2]\n",
            " [4 8]]\n"
          ],
          "name": "stdout"
        }
      ]
    },
    {
      "cell_type": "markdown",
      "metadata": {
        "id": "6PewrdTfv4tW"
      },
      "source": [
        "#Problem 2\r\n",
        "Broadcast method"
      ]
    },
    {
      "cell_type": "code",
      "metadata": {
        "colab": {
          "base_uri": "https://localhost:8080/"
        },
        "id": "mzPQvm0Vv_Xv",
        "outputId": "52ac694c-4393-4e5c-a848-50b3e665495b"
      },
      "source": [
        "import numpy as np\r\n",
        "import math\r\n",
        "m=8 #rows\r\n",
        "n=8 #columns\r\n",
        "def mn_matrix(m=4, n=4):\r\n",
        "  mxn_matrix = n*m\r\n",
        "  sum=np.uint(0)\r\n",
        "  indices_of_squares = np.arange(mxn_matrix,dtype=np.uint)\r\n",
        "  board_ndarray = 2**indices_of_squares\r\n",
        "  for i in range (0,len(board_ndarray)):\r\n",
        "    sum+=board_ndarray[i]  \r\n",
        "  board_ndarray=board_ndarray.reshape(n,m)\r\n",
        "  return board_ndarray, sum\r\n",
        "#print(huge_board_ndarray)\r\n",
        "board_ndarray,sum = mn_matrix(8,8)\r\n",
        "print(\"Total wheat in 8x8 chest: {}\".format(sum))\r\n"
      ],
      "execution_count": null,
      "outputs": [
        {
          "output_type": "stream",
          "text": [
            "Total wheat in 8x8 chest: 18446744073709551615\n"
          ],
          "name": "stdout"
        }
      ]
    },
    {
      "cell_type": "markdown",
      "metadata": {
        "id": "BdMyEmRy_b5N"
      },
      "source": [
        "#Problem 3"
      ]
    },
    {
      "cell_type": "code",
      "metadata": {
        "colab": {
          "base_uri": "https://localhost:8080/",
          "height": 749
        },
        "id": "8c8O463__GNw",
        "outputId": "813573f6-5b08-48a4-ce56-161b10f1cbad"
      },
      "source": [
        "import numpy as np\r\n",
        "import math\r\n",
        "m=8 #rows\r\n",
        "n=8 #columns\r\n",
        "PRINT_MATRIX = 1\r\n",
        "PRINT_MEAN_COLUMN = 1\r\n",
        "def mn_matrix(m=4, n=4):\r\n",
        "  mxn_matrix = n*m\r\n",
        "  sum=np.uint(0)\r\n",
        "  indices_of_squares = np.arange(mxn_matrix,dtype=np.uint)\r\n",
        "  board_ndarray = 2**indices_of_squares\r\n",
        "  for i in range (0,len(board_ndarray)):\r\n",
        "    sum+=board_ndarray[i]  \r\n",
        "  board_ndarray=board_ndarray.reshape(m,n)\r\n",
        "  return board_ndarray, sum\r\n",
        "board_ndarray,sum = mn_matrix(m,n)\r\n",
        "if PRINT_MATRIX: print(board_ndarray)\r\n",
        "if PRINT_MEAN_COLUMN: print(board_ndarray.mean(axis=0))\r\n",
        "print(\"Total wheat in mxn chest: {}\".format(sum))\r\n",
        "#plot code\r\n",
        "import matplotlib.pyplot as plt\r\n",
        "%matplotlib inline\r\n",
        "plt.xlabel(\"column\")\r\n",
        "plt.ylabel(\"number\")\r\n",
        "plt.title(\"number in each column\")\r\n",
        "plt.bar(np.arange(1,n+1), board_ndarray.mean(axis=0))\r\n",
        "plt.show()"
      ],
      "execution_count": null,
      "outputs": [
        {
          "output_type": "stream",
          "text": [
            "[[                  1                   2                   4\n",
            "                    8                  16                  32\n",
            "                   64                 128]\n",
            " [                256                 512                1024\n",
            "                 2048                4096                8192\n",
            "                16384               32768]\n",
            " [              65536              131072              262144\n",
            "               524288             1048576             2097152\n",
            "              4194304             8388608]\n",
            " [           16777216            33554432            67108864\n",
            "            134217728           268435456           536870912\n",
            "           1073741824          2147483648]\n",
            " [         4294967296          8589934592         17179869184\n",
            "          34359738368         68719476736        137438953472\n",
            "         274877906944        549755813888]\n",
            " [      1099511627776       2199023255552       4398046511104\n",
            "        8796093022208      17592186044416      35184372088832\n",
            "       70368744177664     140737488355328]\n",
            " [    281474976710656     562949953421312    1125899906842624\n",
            "     2251799813685248    4503599627370496    9007199254740992\n",
            "    18014398509481984   36028797018963968]\n",
            " [  72057594037927936  144115188075855872  288230376151711744\n",
            "   576460752303423488 1152921504606846976 2305843009213693952\n",
            "  4611686018427387904 9223372036854775808]]\n",
            "[9.04252160e+15 1.80850432e+16 3.61700864e+16 7.23401728e+16\n",
            " 1.44680346e+17 2.89360691e+17 5.78721383e+17 1.15744277e+18]\n",
            "Total wheat in mxn chest: 18446744073709551615\n"
          ],
          "name": "stdout"
        },
        {
          "output_type": "display_data",
          "data": {
            "image/png": "[encoded data removed]",
            "text/plain": [
              "<Figure size 432x288 with 1 Axes>"
            ]
          },
          "metadata": {
            "tags": [],
            "needs_background": "light"
          }
        }
      ]
    },
    {
      "cell_type": "markdown",
      "metadata": {
        "id": "FkyNJDw9JDZN"
      },
      "source": [
        "#Problem 4"
      ]
    },
    {
      "cell_type": "code",
      "metadata": {
        "colab": {
          "base_uri": "https://localhost:8080/",
          "height": 295
        },
        "id": "vWk4ups9JG6h",
        "outputId": "5f4ac387-a767-4bd1-a8c8-9206952b97bb"
      },
      "source": [
        "plt.xlabel(\"column\")\r\n",
        "plt.ylabel(\"row\")\r\n",
        "plt.title(\"heatmap\")\r\n",
        "plt.pcolor(board_ndarray)\r\n",
        "plt.show()"
      ],
      "execution_count": null,
      "outputs": [
        {
          "output_type": "display_data",
          "data": {
            "image/png": "[encoded data removed]",
            "text/plain": [
              "<Figure size 432x288 with 1 Axes>"
            ]
          },
          "metadata": {
            "tags": [],
            "needs_background": "light"
          }
        }
      ]
    },
    {
      "cell_type": "markdown",
      "metadata": {
        "id": "Zi5bu3lfONBW"
      },
      "source": [
        "#Problem 5"
      ]
    },
    {
      "cell_type": "code",
      "metadata": {
        "colab": {
          "base_uri": "https://localhost:8080/"
        },
        "id": "spoSdblGOhkG",
        "outputId": "925e6883-1a47-437c-b1db-079d9dadbab5"
      },
      "source": [
        "row_sum=board_ndarray.sum(axis=1)\r\n",
        "#print(row_sum)\r\n",
        "first_half=0\r\n",
        "second_half=0\r\n",
        "for i in range(int(m/2)):\r\n",
        "  first_half+=row_sum[i]\r\n",
        "second_half=row_sum.sum()\r\n",
        "print(\"Second half greater than first half: {} times\".format(second_half/first_half-1))"
      ],
      "execution_count": null,
      "outputs": [
        {
          "output_type": "stream",
          "text": [
            "Second half greater than first half: 4294967296.0 times\n"
          ],
          "name": "stdout"
        }
      ]
    },
    {
      "cell_type": "code",
      "metadata": {
        "id": "Z6ddRDzKPKC-"
      },
      "source": [
        "print(a)"
      ],
      "execution_count": null,
      "outputs": []
    },
    {
      "cell_type": "markdown",
      "metadata": {
        "id": "lETmgKKLUxCx"
      },
      "source": [
        "#Problem 6,7"
      ]
    },
    {
      "cell_type": "markdown",
      "metadata": {
        "id": "dUZRkqni_wXo"
      },
      "source": [
        "list.append() method"
      ]
    },
    {
      "cell_type": "code",
      "metadata": {
        "colab": {
          "base_uri": "https://localhost:8080/"
        },
        "id": "VZsek5Ql_rAO",
        "outputId": "67ab199f-a5b1-45f4-953e-69cf5fe1bc33"
      },
      "source": [
        "%%timeit\r\n",
        "import numpy as np\r\n",
        "import math\r\n",
        "m=8 #rows\r\n",
        "n=8 #columns\r\n",
        "def mn_matrix(m=4, n=4):\r\n",
        "  mxn_matrix = n*m\r\n",
        "  board_list = [1]\r\n",
        "  sum=np.uint(0)\r\n",
        "  for i in range(mxn_matrix - 1):\r\n",
        "    board_list.append(2*board_list[-1]) \r\n",
        "  board_ndarray=np.array(board_list,dtype=np.uint)  \r\n",
        "  board_ndarray=board_ndarray.reshape(n,m)\r\n",
        "  return board_list, board_ndarray.sum()\r\n",
        "board_ndarray,sum = mn_matrix(8,8)\r\n",
        "#print(\"Total wheat in 8x8 chest: {}\".format(sum))\r\n"
      ],
      "execution_count": 1,
      "outputs": [
        {
          "output_type": "stream",
          "text": [
            "The slowest run took 6.97 times longer than the fastest. This could mean that an intermediate result is being cached.\n",
            "100000 loops, best of 5: 19.9 µs per loop\n"
          ],
          "name": "stdout"
        }
      ]
    },
    {
      "cell_type": "markdown",
      "metadata": {
        "id": "Fj7Br5on_vA1"
      },
      "source": [
        "np.append() method"
      ]
    },
    {
      "cell_type": "code",
      "metadata": {
        "id": "sBL6MxhbVkpT",
        "colab": {
          "base_uri": "https://localhost:8080/"
        },
        "outputId": "7ba54cd4-f3b5-4f90-9164-52bb44380142"
      },
      "source": [
        "%%timeit\r\n",
        "import numpy as np\r\n",
        "import math\r\n",
        "m=8 #rows\r\n",
        "n=8 #columns\r\n",
        "def mn_matrix(m=4, n=4):\r\n",
        "  mxn_matrix = n*m\r\n",
        "  board_ndarray = np.array([1],dtype=np.uint)\r\n",
        "  sum=np.uint(0)\r\n",
        "  for _ in range(mxn_matrix - 1):\r\n",
        "    board_ndarray = np.append(board_ndarray, 2*board_ndarray[-1]) \r\n",
        "  board_ndarray=board_ndarray.reshape(n,m)\r\n",
        "  return board_ndarray, board_ndarray.sum()\r\n",
        "board_ndarray,sum = mn_matrix(8,8)\r\n",
        "#print(\"Total wheat in 8x8 chest: {}\".format(sum))"
      ],
      "execution_count": 2,
      "outputs": [
        {
          "output_type": "stream",
          "text": [
            "1000 loops, best of 5: 422 µs per loop\n"
          ],
          "name": "stdout"
        }
      ]
    },
    {
      "cell_type": "code",
      "metadata": {
        "id": "I_xpi4j5Eulo"
      },
      "source": [
        ""
      ],
      "execution_count": null,
      "outputs": []
    },
    {
      "cell_type": "markdown",
      "metadata": {
        "id": "qQC7h-IaXrv3"
      },
      "source": [
        "broadcast method"
      ]
    },
    {
      "cell_type": "code",
      "metadata": {
        "id": "_DF7ZmefXuhx",
        "colab": {
          "base_uri": "https://localhost:8080/"
        },
        "outputId": "d3182b27-caf6-44ec-d14c-3c5f60873113"
      },
      "source": [
        "%%timeit\r\n",
        "import numpy as np\r\n",
        "import math\r\n",
        "m=8 #rows\r\n",
        "n=8 #columns\r\n",
        "def mn_matrix(m=4, n=4):\r\n",
        "  mxn_matrix = n*m\r\n",
        "  sum=np.uint(0)\r\n",
        "  indices_of_squares = np.arange(mxn_matrix,dtype=np.uint)\r\n",
        "  board_ndarray = 2**indices_of_squares\r\n",
        "  board_ndarray=board_ndarray.reshape(n,m)\r\n",
        "  return board_ndarray, board_ndarray.sum()\r\n",
        "board_ndarray,sum = mn_matrix(8,8)\r\n",
        "#print(\"Total wheat in 8x8 chest: {}\".format(sum))\r\n"
      ],
      "execution_count": 3,
      "outputs": [
        {
          "output_type": "stream",
          "text": [
            "The slowest run took 11.89 times longer than the fastest. This could mean that an intermediate result is being cached.\n",
            "100000 loops, best of 5: 8 µs per loop\n"
          ],
          "name": "stdout"
        }
      ]
    },
    {
      "cell_type": "markdown",
      "metadata": {
        "id": "D129DdbdB7-V"
      },
      "source": [
        "After trying 3 different method:\r\n",
        "- We can see that the broadcast method is the fastest becasuse it doesn't use the loop so it can execute multithreading\r\n",
        "- Using loop can diable the multithreading so the other methods are slower. Work with list is more faster than array in Python so the list.aapend() method is faster than the ndarray.append() method "
      ]
    }
  ]
}